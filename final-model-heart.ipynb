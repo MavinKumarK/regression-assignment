{
 "cells": [
  {
   "cell_type": "code",
   "execution_count": 1,
   "id": "cf3ef671-46fb-469b-a6e3-4c2a9d0850b6",
   "metadata": {},
   "outputs": [],
   "source": [
    "import pickle"
   ]
  },
  {
   "cell_type": "code",
   "execution_count": 6,
   "id": "ee6bc4ee-d8c7-4fdc-bd8c-0e72b52532e1",
   "metadata": {},
   "outputs": [],
   "source": [
    "loaded_model=pickle.load(open(\"finalized_model_randomForest.sav\",\"rb\"))"
   ]
  },
  {
   "cell_type": "code",
   "execution_count": 4,
   "id": "b99dc4be-c8e0-4159-958a-9f8dfb0dfde8",
   "metadata": {},
   "outputs": [
    {
     "name": "stdin",
     "output_type": "stream",
     "text": [
      "Enter your age 61\n",
      "Enter your gender M-1;F-0 1\n",
      "Enter your cp 0\n",
      "Enter your trestbps 148\n",
      "Enter your chol 203\n",
      "Enter your fbs 0\n",
      "Enter your restecg 1\n",
      "Enter your thalach 161\n",
      "Enter your exange 106\n",
      "Enter your oldpeak 0\n",
      "Enter your slope 1\n",
      "Enter your ca 3\n",
      "Enter your thal 2\n"
     ]
    }
   ],
   "source": [
    "age=int(input('Enter your age'))\n",
    "gender=int(input('Enter your gender M-1;F-0'))\n",
    "cp=int(input('Enter your cp'))\n",
    "trestbps=int(input('Enter your trestbps'))\n",
    "chol=int(input('Enter your chol'))\n",
    "fbs=int(input('Enter your fbs'))\n",
    "restecg=int(input('Enter your restecg'))\n",
    "thalach=int(input('Enter your thalach'))\n",
    "exange=int(input('Enter your exange'))\n",
    "oldpeak=float(input('Enter your oldpeak'))\n",
    "slope=int(input('Enter your slope'))\n",
    "ca=int(input('Enter your ca'))\n",
    "thal=int(input('Enter your thal'))"
   ]
  },
  {
   "cell_type": "code",
   "execution_count": 7,
   "id": "c3ee9dd4-0d69-4739-a383-e56c86d43e1d",
   "metadata": {},
   "outputs": [],
   "source": [
    "result=loaded_model.predict([[age,gender,cp,trestbps,chol,fbs,restecg,thalach,exange,oldpeak,slope,ca,thal]])"
   ]
  },
  {
   "cell_type": "code",
   "execution_count": 8,
   "id": "3d10b043-4b0a-4039-823c-8b526effbc70",
   "metadata": {},
   "outputs": [
    {
     "data": {
      "text/plain": [
       "array([0.])"
      ]
     },
     "execution_count": 8,
     "metadata": {},
     "output_type": "execute_result"
    }
   ],
   "source": [
    "result"
   ]
  },
  {
   "cell_type": "code",
   "execution_count": null,
   "id": "4e05e181-f757-4684-8223-a9ac71583a7f",
   "metadata": {},
   "outputs": [],
   "source": []
  }
 ],
 "metadata": {
  "kernelspec": {
   "display_name": "Python 3 (ipykernel)",
   "language": "python",
   "name": "python3"
  },
  "language_info": {
   "codemirror_mode": {
    "name": "ipython",
    "version": 3
   },
   "file_extension": ".py",
   "mimetype": "text/x-python",
   "name": "python",
   "nbconvert_exporter": "python",
   "pygments_lexer": "ipython3",
   "version": "3.12.7"
  }
 },
 "nbformat": 4,
 "nbformat_minor": 5
}
